{
  "cells": [
    {
      "cell_type": "markdown",
      "metadata": {
        "id": "9NFhFNqfk9j6"
      },
      "source": [
        "Full Name: Nguyễn Trọng Nhân\n",
        "\n",
        "Student ID: 22521005"
      ]
    },
    {
      "cell_type": "markdown",
      "metadata": {
        "id": "1Gb0yc6EnPok"
      },
      "source": [
        "**Experiment Requirements (for all datasets)**\n",
        "- Train - test splitting ratio = 7:3.\n",
        "- Random_state = 'Your Student ID'.\n",
        "- Experiment with **Gradient Descent** (*max_iter = 200*, *learning_rate (eta)* is set by yourself) and **Normal Equation**.\n",
        "- Visualize the cost trend (only for Gradient Descent)\n",
        "- Evaluation Metric: **R2 score**.\n",
        "- After completing all requirements, click on ‘Runtime’ and choose ‘Restart and run all’.\n",
        "- If the code is run without any errors (and the results are the same as before re-running), download the .ipybn file and submit. \n",
        "Otherwise, check the code carefully.\n"
      ]
    },
    {
      "cell_type": "markdown",
      "metadata": {
        "id": "g9CgxY0ph1iF"
      },
      "source": [
        "# Fish Dataset"
      ]
    },
    {
      "cell_type": "markdown",
      "metadata": {
        "id": "wME5TQSziZPP"
      },
      "source": [
        "🐟🐟 **Dataset Information (fish.csv)** 🐟🐟\n",
        "- Weight: Weight of fish in gram\n",
        "- Length1: Vertical length in cm\n",
        "- Length2: Diagonal length in cm\n",
        "- Length3: Cross length in cm\n",
        "- Height: Height in cm\n",
        "- Width: Diagonal width in cm"
      ]
    },
    {
      "cell_type": "markdown",
      "metadata": {
        "id": "pj2frDFyistE"
      },
      "source": [
        "📚📚 **Problem Requirement** 📚📚\n",
        "\n",
        "Use all remaining attributes to estimate the **weight** of fish.\n"
      ]
    },
    {
      "cell_type": "markdown",
      "metadata": {
        "id": "-7KQpJK5kMHQ"
      },
      "source": [
        "**Note**: Try to make the Gradient Descent achieving the comparable performance to the Normal Equation model. ✌✌\n",
        "\n",
        "**Hint**💡: Apply (suitable) techniques in Data Preprocessing tutorial file."
      ]
    },
    {
      "cell_type": "code",
      "execution_count": 49,
      "metadata": {
        "id": "tIHZOpLPhgOK"
      },
      "outputs": [
        {
          "name": "stdout",
          "output_type": "stream",
          "text": [
            "[[-2.76400715e+106]\n",
            " [-1.97832444e+109]\n",
            " [-9.49997108e+107]\n",
            " [-1.02686659e+108]\n",
            " [-1.12596779e+108]\n",
            " [-3.24057081e+107]]\n",
            "[-56.81861797773755, -731.089960916891, -9402.600671367747, -120921.58409245088, -1555097.342379451, -19999131.489559673, -257196275.24031278, -3307639823.961621, -42537479173.85374, -547047813764.09656, -7035238485108.369, -90475785291564.73, -1163552272101703.0, -1.4963715269783432e+16, -1.924389475607316e+17, -2.474836487504081e+18, -3.1827318313246405e+19, -4.093111589906764e+20, -5.263893841931479e+21, -6.769563392176005e+22, -8.705910471757198e+23, -1.1196124883009448e+25, -1.4398633296609377e+26, -1.8517178307366425e+27, -2.381378047509172e+28, -3.062540799157609e+29, -3.938541449273527e+30, -5.065110888290013e+31, -6.513921115494734e+32, -8.377144989458057e+33, -1.0773320236788335e+35, -1.3854890785637662e+36, -1.7817905201263418e+37, -2.2914489235116575e+38, -2.9468885987172147e+39, -3.789808415166854e+40, -4.8738346708869785e+41, -6.267932781001582e+42, -8.060794836112994e+43, -1.0366482165675522e+45, -1.333168188449875e+46, -1.7145039081624695e+47, -2.2049158362548957e+48, -2.8356038279190256e+49, -3.646692058126932e+50, -4.6897817092331046e+51, -6.031233822236781e+52, -7.7563911656863e+53, -9.975007716219607e+54, -1.2828231172613465e+56, -1.649758272872587e+57, -2.1216505395708834e+58, -2.7285215574179275e+59, -3.508980272877603e+60, -4.5126792280491405e+61, -5.803473440039067e+62, -7.463482837400583e+63, -9.598316704590292e+64, -1.2343792511982742e+66, -1.587457658133038e+67, -2.0415296303133073e+68, -2.6254830861749498e+69, -3.376468963976227e+70, -4.342264752999826e+71, -5.584314082644536e+72, -7.181635747124456e+73, -9.235850856718156e+74, -1.1877647941375502e+76, -1.527509731457403e+77, -1.9644343654682017e+78, -2.526335706254759e+79, -3.2489617433344806e+80, -4.178285721694411e+81, -5.3734309454188226e+82, -6.910432184009549e+83, -8.887072980905851e+84, -1.1429106612275765e+86, -1.4698256471553257e+87, -1.890250486171112e+88, -2.4309324765051796e+89, -3.126269639161812e+90, -4.020499109377096e+91, -5.170511489481077e+92, -6.649470211423035e+93, -8.551466171684275e+94, -1.0997503765012077e+96, -1.4143199146589595e+97, -1.8188680483700024e+98, -2.3391320047834017e+99, -3.0082108159002493e+100, -3.868671068752782e+101, -4.975254978506491e+102, -6.398363071258415e+103, -8.228533043734134e+104, -1.0582199743552177e+106, -1.3609102718218838e+107, -1.7501812598829476e+108, -2.250798238406098e+109, -2.8946103047354165e+110, -3.722576583414196e+111, -4.7873720330206485e+112, -6.15673861074147e+113, -7.917794994737002e+114, -1.0182579047501945e+116, -1.309517563002648e+117, -1.684088323609026e+118, -2.1658002625128024e+119, -2.785299744284374e+120, -3.581999134356809e+121, -4.606584201525324e+122, -5.924238730882084e+123, -7.618791496063879e+124, -9.798049419904556e+125, -1.2600656217523434e+127, -1.6204912866601847e+128, -2.0840121060438694e+129, -2.6801171310760334e+130, -3.4467303790873566e+131, -4.4326235478201e+132, -5.700518855754477e+133, -7.331079410249796e+134, -9.428040969487372e+135, -1.2124811579322896e+137, -1.559295895190366e+138, -2.005312555045334e+139, -2.578906579454255e+140, -3.316569842850303e+141, -4.265232253908096e+142, -5.485247421819202e+143, -7.05423233424289e+144, -9.07200532605585e+145, -1.1666936490945455e+147, -1.5004114547068185e+148, -1.9295849730240517e+149, -2.4815180905478797e+150, -3.1913246215146794e+151, -4.1041622378973755e+152, -5.278105386530114e+153, -6.787839967454715e+154, -8.729414827782678e+155, -1.1226352359642678e+157, -1.4437506956565068e+158, -1.8567171280868233e+159, -2.3878073299652113e+160, -3.07080909568093e+161, -3.9491747863317436e+162, -5.078785755498122e+163, -6.531507503675176e+164, -8.399761739187809e+165, -1.0802406218690351e+167, -1.3892296440884892e+168, -1.7866010266073976e+169, -2.297635413883589e+170, -2.9548446555841422e+171, -3.800040200406022e+172, -4.8869931275108423e+173, -6.284855045950937e+174, -8.082557498650242e+175, -1.0394469759660582e+177, -1.336767497200502e+178, -1.7191327531747462e+179, -2.2108687032169075e+180, -2.8432594363858057e+181, -3.656537455541427e+182, -4.702443256733872e+183, -6.047517043559882e+184, -7.777331994336283e+185, -1.000193840123865e+187, -1.2862865035853423e+188, -1.6542123165854576e+189, -2.1273786055561084e+190, -2.7358880634619248e+191, -3.5184538738165975e+192, -4.5248626314449035e+193, -5.81914175024758e+194, -7.483632867471459e+195, -9.624230393204685e+196, -1.2377118479995782e+198, -1.5917435016520086e+199, -2.0470413845891053e+200, -2.6325714073099417e+201, -3.3855848087687597e+202, -4.353988068676278e+203, -5.599390702922481e+204, -7.201024841923117e+205, -9.260785954252021e+206, -1.19097154048378e+208, -1.531633726607249e+209, -1.9697379767176383e+210, -2.5331563477111893e+211, -3.25773334209789e+212, -4.18956632416527e+213, -5.387938220037485e+214, -6.929089079100484e+215, -8.911066442364586e+216, -1.1459963096699664e+218, -1.4737939058938166e+219, -1.8953538145993519e+220, -2.437495546799429e+221, -3.1347099918243834e+222]\n",
            "[ 4.83358066e-01  3.51138849e-04 -3.73824114e-03  6.39068069e-01\n",
            " -5.47837617e-01  3.16592110e-01]\n"
          ]
        }
      ],
      "source": [
        "# Code here\n",
        "import numpy as np\n",
        "import matplotlib.pyplot as plt\n",
        "import pandas as pd\n",
        "from sklearn.linear_model import LinearRegression\n",
        "from sklearn.metrics import mean_absolute_error as MAE\n",
        "from sklearn.metrics import mean_squared_error as MSE\n",
        "from sklearn.metrics import r2_score as R2\n",
        "\n",
        "\n",
        "\n",
        "class LinearRegression_GD:\n",
        "    def __init__(self, eta = 0.001, max_iter = 20, random_state = 42):\n",
        "        self.eta = eta\n",
        "        self.max_iter = max_iter\n",
        "        self.random_state = random_state\n",
        "        self.w = None\n",
        "        self.costs = []\n",
        "\n",
        "    def predict(self, X):\n",
        "        return np.dot(X, self.w[1:]) + self.w[0]\n",
        "  \n",
        "    def fit(self, X, y):\n",
        "        rgen = np.random.RandomState(self.random_state)\n",
        "        self.w = rgen.normal(loc = 0.0, scale = 0.01, size = 1 + X.shape[1])\n",
        "        self.w = self.w.reshape(1 + X.shape[1], 1)\n",
        "        self.costs = []\n",
        "        for n_iters in range(self.max_iter):\n",
        "            y_pred = self.predict(X)\n",
        "            diff = y - y_pred\n",
        "            self.w[0] += self.eta * np.sum(diff)\n",
        "            temp = np.dot(X.T, diff)\n",
        "            temp = self.eta*temp\n",
        "            self.w[1:] = self.w[1:] + temp\n",
        "            cost = R2(y.reshape([1, y.shape[0]])[0], y_pred.reshape([1, y_pred.shape[0]])[0])\n",
        "            self.costs.append(cost)\n",
        "\n",
        "fish_data = pd.read_csv(\"fish.csv\")\n",
        "X = fish_data.to_numpy()[:, :5]\n",
        "y = fish_data.to_numpy()[:, 5:6]\n",
        "\n",
        "reg_GD = LinearRegression_GD(eta = 0.0000001, max_iter = 200, random_state = 22521005)\n",
        "reg_GD.fit(X, y)\n",
        "print(reg_GD.w)\n",
        "print(reg_GD.costs)\n",
        "reg_NE = LinearRegression()\n",
        "reg_NE.fit(X, y)\n",
        "w_NE = np.append(reg_NE.intercept_, reg_NE.coef_) \n",
        "print(w_NE)"
      ]
    },
    {
      "cell_type": "markdown",
      "metadata": {
        "id": "lGWM0AT3h_z7"
      },
      "source": [
        "# Insurance Dataset"
      ]
    },
    {
      "cell_type": "markdown",
      "metadata": {
        "id": "t3XRaiasnKeB"
      },
      "source": [
        "💰💰 **Dataset Information (insurance.csv)** 💰💰\n",
        "- age: Age of primary beneficiary\n",
        "- sex: Insurance contractor gender, female / male\n",
        "- bmi: Body mass index, providing an understanding of body, weights that are relatively high or low relative to\n",
        "- children: Number of children covered by health insurance / Number of dependents\n",
        "- smoker: Smoker / Non-smoker\n",
        "- region: The beneficiary's residential area in the US, northeast, southeast, southwest, northwest\n",
        "- charges: Individual medical costs billed by health insurance"
      ]
    },
    {
      "cell_type": "markdown",
      "metadata": {
        "id": "2_B9zbFznKeD"
      },
      "source": [
        "📚📚 **Problem Requirement** 📚📚\n",
        "\n",
        "Use all remaining attributes to estimate the individual medical costs billed by health insurance ('**charges**')\n"
      ]
    },
    {
      "cell_type": "markdown",
      "metadata": {
        "id": "S-SAz8n4nKeE"
      },
      "source": [
        "**Note**: Try to make the Gradient Descent achieving the comparable performance to the Normal Equation model. ✌✌\n",
        "\n",
        "**Hint**💡: Apply (suitable) techniques in the Data Preprocessing tutorial file."
      ]
    },
    {
      "cell_type": "code",
      "execution_count": 2,
      "metadata": {
        "id": "HwPfBssTp4vq"
      },
      "outputs": [],
      "source": [
        "# Code here\n"
      ]
    },
    {
      "cell_type": "markdown",
      "metadata": {
        "id": "ymYJad2ch5Yt"
      },
      "source": [
        "# Tesla Stock Dataset"
      ]
    },
    {
      "cell_type": "markdown",
      "metadata": {
        "id": "vLkcaH7Hpyhv"
      },
      "source": [
        "📈📈 **Dataset Information (tesla_stock.csv)** 📈📈\n",
        "- Open: The opening price of the stock\n",
        "- High: The high price of that day\n",
        "- Low: The low price of that day\n",
        "- Close: The closed price of that day\n",
        "- Volume: The amount of stocks traded during that day"
      ]
    },
    {
      "cell_type": "markdown",
      "metadata": {
        "id": "k9q59HmEpyhv"
      },
      "source": [
        "📚📚 **Problem Requirement** 📚📚\n",
        "\n",
        "Use all remaining attributes to predict the closing price of tesla stock ('**Close**')\n"
      ]
    },
    {
      "cell_type": "markdown",
      "metadata": {
        "id": "jcQmt-VJpyhv"
      },
      "source": [
        "**Note**: Try to make the Gradient Descent achieving the comparable performance to the Normal Equation model. ✌✌\n",
        "\n",
        "**Hint**💡: Apply (suitable) techniques in the Data Preprocessing tutorial file."
      ]
    },
    {
      "cell_type": "code",
      "execution_count": 3,
      "metadata": {
        "id": "0yYAVZJnpyNK"
      },
      "outputs": [],
      "source": [
        "# Code here\n"
      ]
    }
  ],
  "metadata": {
    "colab": {
      "provenance": []
    },
    "kernelspec": {
      "display_name": "Python 3",
      "name": "python3"
    },
    "language_info": {
      "codemirror_mode": {
        "name": "ipython",
        "version": 3
      },
      "file_extension": ".py",
      "mimetype": "text/x-python",
      "name": "python",
      "nbconvert_exporter": "python",
      "pygments_lexer": "ipython3",
      "version": "3.9.13"
    }
  },
  "nbformat": 4,
  "nbformat_minor": 0
}
