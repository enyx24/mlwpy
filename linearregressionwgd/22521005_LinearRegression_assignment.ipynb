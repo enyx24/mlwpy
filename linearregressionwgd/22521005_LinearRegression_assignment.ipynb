{
  "cells": [
    {
      "cell_type": "markdown",
      "metadata": {
        "id": "9NFhFNqfk9j6"
      },
      "source": [
        "Full Name: Nguyễn Trọng Nhân\n",
        "\n",
        "Student ID: 22521005"
      ]
    },
    {
      "cell_type": "markdown",
      "metadata": {
        "id": "1Gb0yc6EnPok"
      },
      "source": [
        "**Experiment Requirements (for all datasets)**\n",
        "- Train - test splitting ratio = 7:3.\n",
        "- Random_state = 'Your Student ID'.\n",
        "- Experiment with **Gradient Descent** (*max_iter = 200*, *learning_rate (eta)* is set by yourself) and **Normal Equation**.\n",
        "- Visualize the cost trend (only for Gradient Descent)\n",
        "- Evaluation Metric: **R2 score**.\n",
        "- After completing all requirements, click on ‘Runtime’ and choose ‘Restart and run all’.\n",
        "- If the code is run without any errors (and the results are the same as before re-running), download the .ipybn file and submit. \n",
        "Otherwise, check the code carefully.\n"
      ]
    },
    {
      "cell_type": "markdown",
      "metadata": {
        "id": "g9CgxY0ph1iF"
      },
      "source": [
        "# Fish Dataset"
      ]
    },
    {
      "cell_type": "markdown",
      "metadata": {
        "id": "wME5TQSziZPP"
      },
      "source": [
        "🐟🐟 **Dataset Information (fish.csv)** 🐟🐟\n",
        "- Weight: Weight of fish in gram\n",
        "- Length1: Vertical length in cm\n",
        "- Length2: Diagonal length in cm\n",
        "- Length3: Cross length in cm\n",
        "- Height: Height in cm\n",
        "- Width: Diagonal width in cm"
      ]
    },
    {
      "cell_type": "markdown",
      "metadata": {
        "id": "pj2frDFyistE"
      },
      "source": [
        "📚📚 **Problem Requirement** 📚📚\n",
        "\n",
        "Use all remaining attributes to estimate the **weight** of fish.\n"
      ]
    },
    {
      "cell_type": "markdown",
      "metadata": {
        "id": "-7KQpJK5kMHQ"
      },
      "source": [
        "**Note**: Try to make the Gradient Descent achieving the comparable performance to the Normal Equation model. ✌✌\n",
        "\n",
        "**Hint**💡: Apply (suitable) techniques in Data Preprocessing tutorial file."
      ]
    },
    {
      "cell_type": "code",
      "execution_count": 160,
      "metadata": {
        "id": "tIHZOpLPhgOK"
      },
      "outputs": [
        {
          "name": "stdout",
          "output_type": "stream",
          "text": [
            "Normal Equation R2 score:  0.9014805010668647\n",
            "Gradient Descend R2 score:  0.6269163479449615\n"
          ]
        },
        {
          "data": {
            "image/png": "[encoded data removed]",
            "text/plain": [
              "<Figure size 640x480 with 1 Axes>"
            ]
          },
          "metadata": {},
          "output_type": "display_data"
        }
      ],
      "source": [
        "import numpy as np\n",
        "from numpy import mean, std, percentile\n",
        "import matplotlib.pyplot as plt\n",
        "import pandas as pd\n",
        "from sklearn.linear_model import LinearRegression\n",
        "from sklearn.metrics import mean_absolute_error as MAE\n",
        "from sklearn.metrics import mean_squared_error as MSE\n",
        "from sklearn.metrics import r2_score as R2\n",
        "from sklearn.model_selection import train_test_split\n",
        "from sklearn.preprocessing import MinMaxScaler, StandardScaler\n",
        "from sklearn.neighbors import LocalOutlierFactor\n",
        "import seaborn as sbn\n",
        "from sklearn.linear_model import SGDRegressor\n",
        "\n",
        "def testPreprocessing(data):\n",
        "    for col in data.columns: \n",
        "        # calculate summary statistics\n",
        "        data_mean, data_std = mean(data[col]), std(data[col])\n",
        "        # identify outliers\n",
        "        cut_off = data_std * 3\n",
        "        lower, upper = data_mean - cut_off, data_mean + cut_off\n",
        "        # identify outliers\n",
        "        outliers = [x for x in data[col] if x < lower or x > upper]\n",
        "        # remove outliers\n",
        "        data = data[~((data[col] < lower)|(data[col] > upper))]\n",
        "    return data\n",
        "\n",
        "def dataPreprocessing(data):\n",
        "    for col in data.columns: \n",
        "        # calculate interquartile range\n",
        "        q25, q75 = percentile(data[col], 25), percentile(data[col], 75)\n",
        "        iqr = q75 - q25\n",
        "        # calculate the outlier cutoff\n",
        "        cut_off = iqr * 1.5\n",
        "        lower, upper = q25 - cut_off, q75 + cut_off\n",
        "        # identify outliers\n",
        "        outliers = [x for x in data[col] if x < lower or x > upper]\n",
        "        # remove outliers\n",
        "        data = data[~((data[col] < lower)|(data[col] > upper))]\n",
        "    return data\n",
        "\n",
        "class LinearRegression_GD:\n",
        "    def __init__(self, eta = 0.001, max_iter = 20, random_state = 42):\n",
        "        self.eta = eta\n",
        "        self.max_iter = max_iter\n",
        "        self.random_state = random_state\n",
        "        self.w = None\n",
        "        self.costs = []\n",
        "\n",
        "    def predict(self, X):\n",
        "        return np.dot(X, self.w[1:]) + self.w[0]\n",
        "\n",
        "    def fit(self, X, y):\n",
        "        rgen = np.random.RandomState(self.random_state)\n",
        "        self.w = rgen.normal(loc = 0.0, scale = 0.01, size = 1 + X.shape[1])\n",
        "        self.costs = []\n",
        "        for n_iters in range (self.max_iter):\n",
        "            y_pred = self.predict(X)\n",
        "            diff = y - y_pred\n",
        "            self.w[0] += self.eta * np.sum(diff)\n",
        "            self.w[1:] += self.eta * np.dot(X.T, diff)\n",
        "            cost = np.sum(diff ** 2)/2\n",
        "            self.costs.append(cost)\n",
        "\n",
        "fish_data = pd.read_csv(\"fish.csv\")\n",
        "fish_data = dataPreprocessing(fish_data)\n",
        "#sbn.boxplot(fish_data)\n",
        "X = fish_data.drop(columns = ['Weight'])\n",
        "X = X.values\n",
        "y = fish_data['Weight']\n",
        "# summarize the shape of the training dataset\n",
        "#print(X.shape, y.shape)\n",
        "# identify outliers in the training dataset\n",
        "#lof = LocalOutlierFactor()\n",
        "#yhat = lof.fit_predict(X)\n",
        "# select all rows that are not outliers\n",
        "#mask = yhat != -1\n",
        "#X, y = X[mask, :], y[mask]\n",
        "# summarize the shape of the updated training dataset\n",
        "#print(X.shape, y.shape)\n",
        "X_train, X_test, y_train, y_test = train_test_split(X, y, test_size = 0.3, random_state = 22521005)\n",
        "\n",
        "\n",
        "reg_GD = LinearRegression_GD(eta = 0.0000069, max_iter = 200, random_state = 22521005)\n",
        "reg_GD.fit(X_train, y_train)\n",
        "reg_NE = LinearRegression()\n",
        "reg_NE.fit(X_train, y_train)\n",
        "w_NE = np.append(reg_NE.intercept_, reg_NE.coef_)\n",
        "print(\"Normal Equation R2 score: \", R2(y_test, reg_NE.predict(X_test)))\n",
        "print(\"Gradient Descend R2 score: \", R2(y_test, reg_GD.predict(X_test)))\n",
        "\n",
        "\"\"\"\n",
        "reg_SGD = SGDRegressor(eta0 = 0.00001, max_iter=200, learning_rate='constant')\n",
        "reg_SGD.fit(X_train, y_train)\n",
        "print(\"SGD R2 score: \", R2(y_test, reg_SGD.predict(X_test)))\n",
        "\"\"\"\n",
        "\n",
        "costs = reg_GD.costs\n",
        "plt.plot(range(0, 200), costs)\n",
        "plt.title(\"Gradient Descend costs trend visualization\")\n",
        "plt.xlabel(\"Iteration\")\n",
        "plt.ylabel(\"Costs\")\n",
        "plt.show()"
      ]
    },
    {
      "cell_type": "markdown",
      "metadata": {
        "id": "lGWM0AT3h_z7"
      },
      "source": [
        "# tesla Dataset"
      ]
    },
    {
      "cell_type": "markdown",
      "metadata": {
        "id": "t3XRaiasnKeB"
      },
      "source": [
        "💰💰 **Dataset Information (insurance.csv)** 💰💰\n",
        "- age: Age of primary beneficiary\n",
        "- sex: Insurance contractor gender, female / male\n",
        "- bmi: Body mass index, providing an understanding of body, weights that are relatively high or low relative to\n",
        "- children: Number of children covered by health insurance / Number of dependents\n",
        "- smoker: Smoker / Non-smoker\n",
        "- region: The beneficiary's residential area in the US, northeast, southeast, southwest, northwest\n",
        "- charges: Individual medical costs billed by health tesla"
      ]
    },
    {
      "cell_type": "markdown",
      "metadata": {
        "id": "2_B9zbFznKeD"
      },
      "source": [
        "📚📚 **Problem Requirement** 📚📚\n",
        "\n",
        "Use all remaining attributes to estimate the individual medical costs billed by health insurance ('**charges**')\n"
      ]
    },
    {
      "cell_type": "markdown",
      "metadata": {
        "id": "S-SAz8n4nKeE"
      },
      "source": [
        "**Note**: Try to make the Gradient Descent achieving the comparable performance to the Normal Equation model. ✌✌\n",
        "\n",
        "**Hint**💡: Apply (suitable) techniques in the Data Preprocessing tutorial file."
      ]
    },
    {
      "cell_type": "code",
      "execution_count": 172,
      "metadata": {
        "id": "HwPfBssTp4vq"
      },
      "outputs": [
        {
          "name": "stdout",
          "output_type": "stream",
          "text": [
            "Normal Equation R2 score:  0.7342134142209361\n",
            "Gradient Descend R2 score:  0.7027990055584592\n"
          ]
        },
        {
          "data": {
            "image/png": "[encoded data removed]",
            "text/plain": [
              "<Figure size 640x480 with 1 Axes>"
            ]
          },
          "metadata": {},
          "output_type": "display_data"
        }
      ],
      "source": [
        "# Code here\n",
        "import numpy as np\n",
        "from numpy import mean, std, percentile\n",
        "import matplotlib.pyplot as plt\n",
        "import pandas as pd\n",
        "from sklearn.linear_model import LinearRegression\n",
        "from sklearn.metrics import mean_absolute_error as MAE\n",
        "from sklearn.metrics import mean_squared_error as MSE\n",
        "from sklearn.metrics import r2_score as R2\n",
        "from sklearn.model_selection import train_test_split\n",
        "from sklearn.preprocessing import MinMaxScaler, StandardScaler, OneHotEncoder\n",
        "import seaborn as sbn\n",
        "\n",
        "\n",
        "def dataTranform(data):\n",
        "    data['sex'] = data['sex'].replace(['female', 'male'], [0, 1])\n",
        "    data['smoker'] = data['smoker'].replace(['yes', 'no'], [1, 0])\n",
        "    data['region'] = data['region'].replace(['southeast', 'southwest', 'northeast', 'northwest'], [0, 1, 2, 3])\n",
        "    data.charges = pd.to_numeric(data.charges)\n",
        "    data.columns.values\n",
        "    return data\n",
        "    \n",
        "\n",
        "def dataPreprocessing(data):\n",
        "    for col in data.columns: \n",
        "        Q1 = data[col].quantile(0.25)\n",
        "        Q3 = data[col].quantile(0.75)\n",
        "        IQR = Q3-Q1\n",
        "        low_fence = Q1-(1.5*IQR)\n",
        "        up_fence = Q3+(1.5*IQR)\n",
        "        #print(data[((data[col] < low_fence)|(data[col] > up_fence))])\n",
        "        data = data[~((data[col] < low_fence)|(data[col] > up_fence))]\n",
        "    return data\n",
        "\n",
        "class LinearRegression_GD:\n",
        "    def __init__(self, eta = 0.001, max_iter = 20, random_state = 42):\n",
        "        self.eta = eta\n",
        "        self.max_iter = max_iter\n",
        "        self.random_state = random_state\n",
        "        self.w = None\n",
        "        self.costs = []\n",
        "\n",
        "    def predict(self, X):\n",
        "        return np.dot(X, self.w[1:]) + self.w[0]\n",
        "\n",
        "    def fit(self, X, y):\n",
        "        rgen = np.random.RandomState(self.random_state)\n",
        "        self.w = rgen.normal(loc = 0.0, scale = 0.01, size = 1 + X.shape[1])\n",
        "        self.costs = []\n",
        "        for n_iters in range (self.max_iter):\n",
        "            y_pred = self.predict(X)\n",
        "            diff = y - y_pred\n",
        "            self.w[0] += self.eta * np.sum(diff)\n",
        "            self.w[1:] += self.eta * np.dot(X.T, diff)\n",
        "            cost = np.sum(diff ** 2)/2\n",
        "            self.costs.append(cost)\n",
        "\n",
        "tesla_data = pd.read_csv(\"tesla.csv\")\n",
        "insurance_data = dataTranform(insurance_data)\n",
        "insurance_data = dataPreprocessing(insurance_data)\n",
        "\n",
        "X = insurance_data.drop(columns = ['charges'])\n",
        "X = X.values\n",
        "y = insurance_data['charges']\n",
        "y = y.values\n",
        "X_train, X_test, y_train, y_test = train_test_split(X, y, test_size = 0.3, random_state = 22521005)\n",
        "# summarize the shape of the training dataset\n",
        "#print(X.shape, y.shape)\n",
        "# identify outliers in the training dataset\n",
        "#lof = LocalOutlierFactor()\n",
        "#yhat = lof.fit_predict(X)\n",
        "# select all rows that are not outliers\n",
        "#mask = yhat != -1\n",
        "#X, y = X[mask, :], y[mask]\n",
        "# summarize the shape of the updated training datasetprint(X.shape, y.shape)\n",
        "#print(X.shape, y.shape)\n",
        "\n",
        "reg_GD = LinearRegression_GD(eta = 0.000001, max_iter = 200, random_state = 22521005)\n",
        "reg_GD.fit(X_train, y_train)\n",
        "reg_NE = LinearRegression()\n",
        "reg_NE.fit(X_train, y_train)\n",
        "w_NE = np.append(reg_NE.intercept_, reg_NE.coef_)\n",
        "print(\"Normal Equation R2 score: \", R2(y_test, reg_NE.predict(X_test)))\n",
        "print(\"Gradient Descend R2 score: \", R2(y_test, reg_GD.predict(X_test)))\n",
        "\n",
        "\"\"\"\n",
        "reg_SGD = SGDRegressor(eta0 = 0.00001, max_iter=200, learning_rate='constant')\n",
        "reg_SGD.fit(X_train, y_train)\n",
        "print(\"SGD R2 score: \", R2(y_test, reg_SGD.predict(X_test)))\n",
        "\"\"\"\n",
        "\n",
        "costs = reg_GD.costs\n",
        "plt.plot(range(0, 200), costs)\n",
        "plt.title(\"Gradient Descend costs trend visualization\")\n",
        "plt.xlabel(\"Iteration\")\n",
        "plt.ylabel(\"Costs\")\n",
        "plt.show() \n",
        "\n"
      ]
    },
    {
      "cell_type": "markdown",
      "metadata": {
        "id": "ymYJad2ch5Yt"
      },
      "source": [
        "# Tesla Stock Dataset"
      ]
    },
    {
      "cell_type": "markdown",
      "metadata": {
        "id": "vLkcaH7Hpyhv"
      },
      "source": [
        "📈📈 **Dataset Information (tesla_stock.csv)** 📈📈\n",
        "- Open: The opening price of the stock\n",
        "- High: The high price of that day\n",
        "- Low: The low price of that day\n",
        "- Close: The closed price of that day\n",
        "- Volume: The amount of stocks traded during that day"
      ]
    },
    {
      "cell_type": "markdown",
      "metadata": {
        "id": "k9q59HmEpyhv"
      },
      "source": [
        "📚📚 **Problem Requirement** 📚📚\n",
        "\n",
        "Use all remaining attributes to predict the closing price of tesla stock ('**Close**')\n"
      ]
    },
    {
      "cell_type": "markdown",
      "metadata": {
        "id": "jcQmt-VJpyhv"
      },
      "source": [
        "**Note**: Try to make the Gradient Descent achieving the comparable performance to the Normal Equation model. ✌✌\n",
        "\n",
        "**Hint**💡: Apply (suitable) techniques in the Data Preprocessing tutorial file."
      ]
    },
    {
      "cell_type": "code",
      "execution_count": 190,
      "metadata": {
        "id": "0yYAVZJnpyNK"
      },
      "outputs": [
        {
          "name": "stdout",
          "output_type": "stream",
          "text": [
            "Normal Equation R2 score:  0.9997390265125917\n",
            "Gradient Descend R2 score:  0.2585317862797146\n",
            "SGD R2 score:  0.2524226956706884\n"
          ]
        },
        {
          "data": {
            "image/png": "[encoded data removed]",
            "text/plain": [
              "<Figure size 640x480 with 1 Axes>"
            ]
          },
          "metadata": {},
          "output_type": "display_data"
        }
      ],
      "source": [
        "# Code here\n",
        "import numpy as np\n",
        "from numpy import mean, std, percentile\n",
        "import matplotlib.pyplot as plt\n",
        "import pandas as pd\n",
        "from sklearn.linear_model import LinearRegression\n",
        "from sklearn.metrics import mean_absolute_error as MAE\n",
        "from sklearn.metrics import mean_squared_error as MSE\n",
        "from sklearn.metrics import r2_score as R2\n",
        "from sklearn.model_selection import train_test_split\n",
        "from sklearn.preprocessing import MinMaxScaler, StandardScaler, OneHotEncoder\n",
        "import seaborn as sbn\n",
        "    \n",
        "\n",
        "def dataPreprocessing(data):\n",
        "    for col in data.columns: \n",
        "        Q1 = data[col].quantile(0.25)\n",
        "        Q3 = data[col].quantile(0.75)\n",
        "        IQR = Q3-Q1\n",
        "        low_fence = Q1-(1.5*IQR)\n",
        "        up_fence = Q3+(1.5*IQR)\n",
        "        #print(data[((data[col] < low_fence)|(data[col] > up_fence))])\n",
        "        data = data[~((data[col] < low_fence)|(data[col] > up_fence))]\n",
        "    return data\n",
        "\n",
        "class LinearRegression_GD:\n",
        "    def __init__(self, eta = 0.001, max_iter = 20, random_state = 42):\n",
        "        self.eta = eta\n",
        "        self.max_iter = max_iter\n",
        "        self.random_state = random_state\n",
        "        self.w = None\n",
        "        self.costs = []\n",
        "\n",
        "    def predict(self, X):\n",
        "        return np.dot(X, self.w[1:]) + self.w[0]\n",
        "\n",
        "    def fit(self, X, y):\n",
        "        rgen = np.random.RandomState(self.random_state)\n",
        "        self.w = rgen.normal(loc = 0.0, scale = 0.01, size = 1 + X.shape[1])\n",
        "        self.costs = []\n",
        "        for n_iters in range (self.max_iter):\n",
        "            y_pred = self.predict(X)\n",
        "            diff = y - y_pred\n",
        "            self.w[0] += self.eta * np.sum(diff)\n",
        "            self.w[1:] += self.eta * np.dot(X.T, diff)\n",
        "            cost = np.sum(diff ** 2)/2\n",
        "            self.costs.append(cost)\n",
        "\n",
        "tesla_data = pd.read_csv(\"tesla_stock.csv\")\n",
        "tesla_data = dataPreprocessing(tesla_data)\n",
        "\n",
        "X = tesla_data.drop(columns = ['Close'])\n",
        "X = X.values\n",
        "y = tesla_data['Close']\n",
        "y = y.values\n",
        "X_train, X_test, y_train, y_test = train_test_split(X, y, test_size = 0.3, random_state = 22521005)\n",
        "# summarize the shape of the training dataset\n",
        "#print(X.shape, y.shape)\n",
        "# identify outliers in the training dataset\n",
        "#lof = LocalOutlierFactor()\n",
        "#yhat = lof.fit_predict(X)\n",
        "# select all rows that are not outliers\n",
        "#mask = yhat != -1\n",
        "#X, y = X[mask, :], y[mask]\n",
        "# summarize the shape of the updated training datasetprint(X.shape, y.shape)\n",
        "#print(X.shape, y.shape)\n",
        "\n",
        "reg_GD = LinearRegression_GD(eta = 0.00000000000000003, max_iter = 200, random_state = 22521005)\n",
        "reg_GD.fit(X_train, y_train)\n",
        "reg_NE = LinearRegression()\n",
        "reg_NE.fit(X_train, y_train)\n",
        "w_NE = np.append(reg_NE.intercept_, reg_NE.coef_)\n",
        "print(\"Normal Equation R2 score: \", R2(y_test, reg_NE.predict(X_test)))\n",
        "print(\"Gradient Descend R2 score: \", R2(y_test, reg_GD.predict(X_test)))\n",
        "\n",
        "\n",
        "reg_SGD = SGDRegressor(eta0 = 0.000000000000000001, max_iter=200, learning_rate='constant')\n",
        "reg_SGD.fit(X_train, y_train)\n",
        "print(\"SGD R2 score: \", R2(y_test, reg_SGD.predict(X_test)))\n",
        "\n",
        "\n",
        "costs = reg_GD.costs\n",
        "plt.plot(range(0, 200), costs)\n",
        "plt.title(\"Gradient Descend costs trend visualization\")\n",
        "plt.xlabel(\"Iteration\")\n",
        "plt.ylabel(\"Costs\")\n",
        "plt.show() \n"
      ]
    }
  ],
  "metadata": {
    "colab": {
      "provenance": []
    },
    "kernelspec": {
      "display_name": "Python 3",
      "name": "python3"
    },
    "language_info": {
      "codemirror_mode": {
        "name": "ipython",
        "version": 3
      },
      "file_extension": ".py",
      "mimetype": "text/x-python",
      "name": "python",
      "nbconvert_exporter": "python",
      "pygments_lexer": "ipython3",
      "version": "3.9.13"
    }
  },
  "nbformat": 4,
  "nbformat_minor": 0
}
